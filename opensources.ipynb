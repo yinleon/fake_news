{
 "cells": [
  {
   "cell_type": "markdown",
   "metadata": {},
   "source": [
    "# Parsing OpenSources\n",
    "by [leon yin](twitter.com/leonyin)<br>\n",
    "2017-11-22\n",
    "\n",
    "## What is this?\n",
    "In this Jupyter Notebook we will \n",
    "1. <a href='#bash'>download a real world dataset</a>, \n",
    "2. <a href='#whoops'>clean-up human-entered text</a> (<a href='#clean-up'>twice</a>), and \n",
    "3. <a href='#hot'>one-hot encode categories of misleading websites </a>\n",
    "4. <a href='#analysis'>Use Pandas to analyze these sites</a>, and \n",
    "5. make a [machine-readible file](#TODO).\n",
    "\n",
    "Please view the [lite version](#TODO) if you want to just want to look at code.\n",
    "\n",
    "## Intro\n",
    "[OpenSources](http://www.opensources.co/) is a \"Professionally curated lists of online sources, available free for public use.\" by Melissa Zimdars and collegues. It contains websites labeled with categories spanning state-sponsored media outlets, to conpiracy theory rumor mills. It is a comprehensive resource for researchers and technologists interested in propaganda and mis/disinformation. \n",
    "\n",
    "The opensources project is in-fact open sourced in json and csv format.<br>\n",
    "One issue however, is that the data is entered by people, and not readily machine-readible.\n",
    "\n",
    "Let's take a moment to appreciate the work of _humans_ <br>\n",
    "<img src='https://media1.giphy.com/media/6tHy8UAbv3zgs/giphy.gif'></a>\n",
    "\n",
    "And optimize this information for \"THE ALGORITHM\"\n",
    "<img src='https://media.giphy.com/media/gBW8Qgfaa2ije/giphy.gif'></a>\n",
    "\n",
    "Using some good ole'fashioned data wrangling.\n",
    "\n",
    "## Let's Code Yo! <a id='bash'></a>"
   ]
  },
  {
   "cell_type": "code",
   "execution_count": 1,
   "metadata": {
    "collapsed": true
   },
   "outputs": [],
   "source": [
    "import numpy as np\n",
    "import pandas as pd"
   ]
  },
  {
   "cell_type": "code",
   "execution_count": 2,
   "metadata": {
    "collapsed": true
   },
   "outputs": [],
   "source": [
    "filename = 'data/sources.csv'"
   ]
  },
  {
   "cell_type": "markdown",
   "metadata": {},
   "source": [
    "We can use the sh magic command in Jupyter Notebooks to access bash commands to download data from github.<br>\n",
    "Let's walk through exacly what is going on:<br>\n",
    "1. Declare a bash cell using the `%%sh` magic command.<br>\n",
    "2. Pass an Python variable with the `-s` flag, which will replace `$1` later,<br>\n",
    "3. Make new a directory (if it doesn't already exist),<br>\n",
    "4. Download the data using `curl`, and save it to the path declared by the `filename` variable."
   ]
  },
  {
   "cell_type": "code",
   "execution_count": 3,
   "metadata": {
    "scrolled": false
   },
   "outputs": [
    {
     "name": "stderr",
     "output_type": "stream",
     "text": [
      "  % Total    % Received % Xferd  Average Speed   Time    Time     Time  Current\n",
      "                                 Dload  Upload   Total   Spent    Left  Speed\n",
      "\r",
      "  0     0    0     0    0     0      0      0 --:--:-- --:--:-- --:--:--     0\r",
      "100 49994  100 49994    0     0  49994      0  0:00:01 --:--:--  0:00:01  216k\n"
     ]
    }
   ],
   "source": [
    "%%sh -s \"$filename\"\n",
    "mkdir -p data\n",
    "curl https://raw.githubusercontent.com/BigMcLargeHuge/opensources/master/sources/sources.csv --output $1"
   ]
  },
  {
   "cell_type": "markdown",
   "metadata": {},
   "source": [
    "`%%sh` is used for a multi-line shell command, `!` can be used for a single liner.<br>\n",
    "Let's check that the file was downloaded correctly."
   ]
  },
  {
   "cell_type": "code",
   "execution_count": 4,
   "metadata": {},
   "outputs": [
    {
     "name": "stdout",
     "output_type": "stream",
     "text": [
      "sources.csv\r\n"
     ]
    }
   ],
   "source": [
    "!ls data"
   ]
  },
  {
   "cell_type": "markdown",
   "metadata": {},
   "source": [
    "We can also get a preview of the contents using shell commands. <br>\n",
    "Using `|` allows us to chain sh commands."
   ]
  },
  {
   "cell_type": "code",
   "execution_count": 5,
   "metadata": {},
   "outputs": [
    {
     "name": "stdout",
     "output_type": "stream",
     "text": [
      ",type,2nd type,3rd type,Source Notes (things to know?),\r",
      "\r\n",
      "100percentfedup.com,bias,,,,\r",
      "\r\n",
      "365usanews.com,bias,conspiracy,,,\r",
      "\r\n",
      "4threvolutionarywar.wordpress.com,bias,conspiracy,,,\r",
      "\r\n",
      "aheadoftheherd.com,bias,,,\"false quotes regarding banking, heavily promotes businesses advertising on site/ buying of precious metals\",\r",
      "\r\n"
     ]
    }
   ],
   "source": [
    "!cat $filename | head -5"
   ]
  },
  {
   "cell_type": "markdown",
   "metadata": {},
   "source": [
    "We just read all the contents of the file with `cat`, and only displayed the first 5 rows with `head -5`.\n",
    "\n",
    "Jupyter Notebooks are rad because we can combine other languages (like bash) with Python.<br>\n",
    "Let's write some Python, and read the file we just previewed into a Pandas dataframe."
   ]
  },
  {
   "cell_type": "code",
   "execution_count": 6,
   "metadata": {},
   "outputs": [
    {
     "data": {
      "text/html": [
       "<div>\n",
       "<style>\n",
       "    .dataframe thead tr:only-child th {\n",
       "        text-align: right;\n",
       "    }\n",
       "\n",
       "    .dataframe thead th {\n",
       "        text-align: left;\n",
       "    }\n",
       "\n",
       "    .dataframe tbody tr th {\n",
       "        vertical-align: top;\n",
       "    }\n",
       "</style>\n",
       "<table border=\"1\" class=\"dataframe\">\n",
       "  <thead>\n",
       "    <tr style=\"text-align: right;\">\n",
       "      <th></th>\n",
       "      <th>Unnamed: 0</th>\n",
       "      <th>type</th>\n",
       "      <th>2nd type</th>\n",
       "      <th>3rd type</th>\n",
       "      <th>Source Notes (things to know?)</th>\n",
       "      <th>Unnamed: 5</th>\n",
       "    </tr>\n",
       "  </thead>\n",
       "  <tbody>\n",
       "    <tr>\n",
       "      <th>0</th>\n",
       "      <td>100percentfedup.com</td>\n",
       "      <td>bias</td>\n",
       "      <td>NaN</td>\n",
       "      <td>NaN</td>\n",
       "      <td>NaN</td>\n",
       "      <td>NaN</td>\n",
       "    </tr>\n",
       "    <tr>\n",
       "      <th>1</th>\n",
       "      <td>365usanews.com</td>\n",
       "      <td>bias</td>\n",
       "      <td>conspiracy</td>\n",
       "      <td>NaN</td>\n",
       "      <td>NaN</td>\n",
       "      <td>NaN</td>\n",
       "    </tr>\n",
       "    <tr>\n",
       "      <th>2</th>\n",
       "      <td>4threvolutionarywar.wordpress.com</td>\n",
       "      <td>bias</td>\n",
       "      <td>conspiracy</td>\n",
       "      <td>NaN</td>\n",
       "      <td>NaN</td>\n",
       "      <td>NaN</td>\n",
       "    </tr>\n",
       "    <tr>\n",
       "      <th>3</th>\n",
       "      <td>aheadoftheherd.com</td>\n",
       "      <td>bias</td>\n",
       "      <td>NaN</td>\n",
       "      <td>NaN</td>\n",
       "      <td>false quotes regarding banking, heavily promot...</td>\n",
       "      <td>NaN</td>\n",
       "    </tr>\n",
       "    <tr>\n",
       "      <th>4</th>\n",
       "      <td>americablog.com</td>\n",
       "      <td>bias</td>\n",
       "      <td>clickbait</td>\n",
       "      <td>NaN</td>\n",
       "      <td>domain for sale</td>\n",
       "      <td>NaN</td>\n",
       "    </tr>\n",
       "    <tr>\n",
       "      <th>5</th>\n",
       "      <td>americanlookout.com</td>\n",
       "      <td>bias</td>\n",
       "      <td>clickbait</td>\n",
       "      <td>NaN</td>\n",
       "      <td>NaN</td>\n",
       "      <td>NaN</td>\n",
       "    </tr>\n",
       "    <tr>\n",
       "      <th>6</th>\n",
       "      <td>americanpatriotdaily.com</td>\n",
       "      <td>bias</td>\n",
       "      <td>clickbait</td>\n",
       "      <td>bias</td>\n",
       "      <td>NaN</td>\n",
       "      <td>NaN</td>\n",
       "    </tr>\n",
       "    <tr>\n",
       "      <th>7</th>\n",
       "      <td>americanthinker.com</td>\n",
       "      <td>bias</td>\n",
       "      <td></td>\n",
       "      <td>NaN</td>\n",
       "      <td>sites both reliable/not reliable sources, mix ...</td>\n",
       "      <td>NaN</td>\n",
       "    </tr>\n",
       "    <tr>\n",
       "      <th>8</th>\n",
       "      <td>americasfreedomfighters.com</td>\n",
       "      <td>bias</td>\n",
       "      <td>clickbait</td>\n",
       "      <td>NaN</td>\n",
       "      <td>NaN</td>\n",
       "      <td>NaN</td>\n",
       "    </tr>\n",
       "    <tr>\n",
       "      <th>9</th>\n",
       "      <td>AmmoLand.com</td>\n",
       "      <td>bias</td>\n",
       "      <td>NaN</td>\n",
       "      <td>NaN</td>\n",
       "      <td></td>\n",
       "      <td>NaN</td>\n",
       "    </tr>\n",
       "  </tbody>\n",
       "</table>\n",
       "</div>"
      ],
      "text/plain": [
       "                          Unnamed: 0  type    2nd type 3rd type  \\\n",
       "0                100percentfedup.com  bias         NaN      NaN   \n",
       "1                     365usanews.com  bias  conspiracy      NaN   \n",
       "2  4threvolutionarywar.wordpress.com  bias  conspiracy      NaN   \n",
       "3                 aheadoftheherd.com  bias         NaN      NaN   \n",
       "4                    americablog.com  bias   clickbait      NaN   \n",
       "5                americanlookout.com  bias   clickbait      NaN   \n",
       "6           americanpatriotdaily.com  bias   clickbait     bias   \n",
       "7                americanthinker.com  bias                  NaN   \n",
       "8        americasfreedomfighters.com  bias   clickbait      NaN   \n",
       "9                       AmmoLand.com  bias         NaN      NaN   \n",
       "\n",
       "                      Source Notes (things to know?) Unnamed: 5  \n",
       "0                                                NaN        NaN  \n",
       "1                                                NaN        NaN  \n",
       "2                                                NaN        NaN  \n",
       "3  false quotes regarding banking, heavily promot...        NaN  \n",
       "4                                    domain for sale        NaN  \n",
       "5                                                NaN        NaN  \n",
       "6                                                NaN        NaN  \n",
       "7  sites both reliable/not reliable sources, mix ...        NaN  \n",
       "8                                                NaN        NaN  \n",
       "9                                                           NaN  "
      ]
     },
     "execution_count": 6,
     "metadata": {},
     "output_type": "execute_result"
    }
   ],
   "source": [
    "df = pd.read_csv(filename)\n",
    "df.head(10)"
   ]
  },
  {
   "cell_type": "markdown",
   "metadata": {},
   "source": [
    "#### What's going on in Unamed:5?\n",
    "There's no column name and it looks like a lot of NaN (not a number) values!<br>\n",
    "We can see all distinct values in that column by calling the dataframe (`df`),<br>\n",
    "indexed with the column name, and using the built-in `unique` function."
   ]
  },
  {
   "cell_type": "code",
   "execution_count": 7,
   "metadata": {},
   "outputs": [
    {
     "data": {
      "text/plain": [
       "array([nan,\n",
       "       'I would classify this as \"religious clickbait,\" with all of its reporting coming through a fundamentalist Christian filter-- thus the \"extreme bias.\"',\n",
       "       ' '], dtype=object)"
      ]
     },
     "execution_count": 7,
     "metadata": {},
     "output_type": "execute_result"
    }
   ],
   "source": [
    "df['Unnamed: 5'].unique()"
   ]
  },
  {
   "cell_type": "markdown",
   "metadata": {},
   "source": [
    "There is only one unique sentence!<br>\n",
    "We can find the row with the only non-nan value by filtering the dataframe."
   ]
  },
  {
   "cell_type": "code",
   "execution_count": 8,
   "metadata": {},
   "outputs": [
    {
     "data": {
      "text/html": [
       "<div>\n",
       "<style>\n",
       "    .dataframe thead tr:only-child th {\n",
       "        text-align: right;\n",
       "    }\n",
       "\n",
       "    .dataframe thead th {\n",
       "        text-align: left;\n",
       "    }\n",
       "\n",
       "    .dataframe tbody tr th {\n",
       "        vertical-align: top;\n",
       "    }\n",
       "</style>\n",
       "<table border=\"1\" class=\"dataframe\">\n",
       "  <thead>\n",
       "    <tr style=\"text-align: right;\">\n",
       "      <th></th>\n",
       "      <th>Unnamed: 0</th>\n",
       "      <th>type</th>\n",
       "      <th>2nd type</th>\n",
       "      <th>3rd type</th>\n",
       "      <th>Source Notes (things to know?)</th>\n",
       "      <th>Unnamed: 5</th>\n",
       "    </tr>\n",
       "  </thead>\n",
       "  <tbody>\n",
       "    <tr>\n",
       "      <th>683</th>\n",
       "      <td>christwire.org</td>\n",
       "      <td>satire</td>\n",
       "      <td>NaN</td>\n",
       "      <td>NaN</td>\n",
       "      <td>NaN</td>\n",
       "      <td></td>\n",
       "    </tr>\n",
       "    <tr>\n",
       "      <th>831</th>\n",
       "      <td>wikileaks.org</td>\n",
       "      <td>unreliable</td>\n",
       "      <td></td>\n",
       "      <td>NaN</td>\n",
       "      <td>Increasingly wikileaks is being accused of spr...</td>\n",
       "      <td></td>\n",
       "    </tr>\n",
       "  </tbody>\n",
       "</table>\n",
       "</div>"
      ],
      "text/plain": [
       "         Unnamed: 0        type 2nd type 3rd type  \\\n",
       "683  christwire.org      satire      NaN      NaN   \n",
       "831   wikileaks.org  unreliable               NaN   \n",
       "\n",
       "                        Source Notes (things to know?) Unnamed: 5  \n",
       "683                                                NaN             \n",
       "831  Increasingly wikileaks is being accused of spr...             "
      ]
     },
     "execution_count": 8,
     "metadata": {},
     "output_type": "execute_result"
    }
   ],
   "source": [
    "df[df['Unnamed: 5'] == df['Unnamed: 5'].unique()[-1]]"
   ]
  },
  {
   "cell_type": "markdown",
   "metadata": {},
   "source": [
    "This works by filtering the Dataframe wherever the condition is true.<br>\n",
    "In the above case, we're looking for rows where the unamed column contains this justification for an \"extreme bias\" website.\n",
    "\n",
    "Based on this outlier, my best guess is a parser error, where `Source Notes (things to know?)` contains a comma (which was parsed)!"
   ]
  },
  {
   "cell_type": "code",
   "execution_count": 9,
   "metadata": {},
   "outputs": [
    {
     "data": {
      "text/plain": [
       "[nan, 'Increasingly wikileaks is being accused of spreading misinformation']"
      ]
     },
     "execution_count": 9,
     "metadata": {},
     "output_type": "execute_result"
    }
   ],
   "source": [
    "df[df['Unnamed: 5'] == df['Unnamed: 5'].unique()[-1]]['Source Notes (things to know?)'].tolist()"
   ]
  },
  {
   "cell_type": "markdown",
   "metadata": {},
   "source": [
    "I'm sure this _zany_ issue won't be in the json file they're provided!"
   ]
  },
  {
   "cell_type": "code",
   "execution_count": 10,
   "metadata": {
    "collapsed": true
   },
   "outputs": [],
   "source": [
    "filename = \"data/sources.json\""
   ]
  },
  {
   "cell_type": "code",
   "execution_count": 11,
   "metadata": {},
   "outputs": [
    {
     "name": "stderr",
     "output_type": "stream",
     "text": [
      "  % Total    % Received % Xferd  Average Speed   Time    Time     Time  Current\n",
      "                                 Dload  Upload   Total   Spent    Left  Speed\n",
      "\r",
      "  0     0    0     0    0     0      0      0 --:--:-- --:--:-- --:--:--     0\r",
      "  0     0    0     0    0     0      0      0 --:--:-- --:--:-- --:--:--     0\r",
      "100  136k  100  136k    0     0   136k      0  0:00:01 --:--:--  0:00:01  640k\n"
     ]
    }
   ],
   "source": [
    "%%sh -s $filename\n",
    "mkdir -p data\n",
    "curl https://raw.githubusercontent.com/BigMcLargeHuge/opensources/master/sources/sources.json --output $1"
   ]
  },
  {
   "cell_type": "code",
   "execution_count": 12,
   "metadata": {
    "collapsed": true
   },
   "outputs": [],
   "source": [
    "df = pd.read_json(filename, orient='index')"
   ]
  },
  {
   "cell_type": "code",
   "execution_count": 13,
   "metadata": {
    "collapsed": true
   },
   "outputs": [],
   "source": [
    "df.index.name = 'domain'"
   ]
  },
  {
   "cell_type": "markdown",
   "metadata": {},
   "source": [
    "Let's simplify this long column name into something that's short and sweet."
   ]
  },
  {
   "cell_type": "code",
   "execution_count": 14,
   "metadata": {},
   "outputs": [
    {
     "data": {
      "text/plain": [
       "Index(['2nd type', '3rd type', 'Source Notes (things to know?)', 'type'], dtype='object')"
      ]
     },
     "execution_count": 14,
     "metadata": {},
     "output_type": "execute_result"
    }
   ],
   "source": [
    "df.columns"
   ]
  },
  {
   "cell_type": "markdown",
   "metadata": {},
   "source": [
    "We can use a list-comprehension to loop through each column name"
   ]
  },
  {
   "cell_type": "code",
   "execution_count": 15,
   "metadata": {},
   "outputs": [
    {
     "data": {
      "text/plain": [
       "['2nd type', '3rd type', 'Source Notes (things to know?)', 'type']"
      ]
     },
     "execution_count": 15,
     "metadata": {},
     "output_type": "execute_result"
    }
   ],
   "source": [
    "[c for c in df.columns]"
   ]
  },
  {
   "cell_type": "markdown",
   "metadata": {},
   "source": [
    "... and use the dictionary to replace **keys** on the left (`Source Notes (things to know?)`) with **values** on the right (`notes`)."
   ]
  },
  {
   "cell_type": "code",
   "execution_count": 16,
   "metadata": {
    "collapsed": true
   },
   "outputs": [],
   "source": [
    "replace_col = {'Source Notes (things to know?)' : 'notes'}"
   ]
  },
  {
   "cell_type": "code",
   "execution_count": 17,
   "metadata": {},
   "outputs": [
    {
     "data": {
      "text/plain": [
       "['2nd type', '3rd type', 'notes', 'type']"
      ]
     },
     "execution_count": 17,
     "metadata": {},
     "output_type": "execute_result"
    }
   ],
   "source": [
    "[replace_col.get(c, c) for c in df.columns]"
   ]
  },
  {
   "cell_type": "markdown",
   "metadata": {},
   "source": [
    "when you use the built-in `get` function for a dictionary, it either returns the value of the given key (`c`), or `c` if it's not in the dictionary."
   ]
  },
  {
   "cell_type": "code",
   "execution_count": 18,
   "metadata": {
    "collapsed": true
   },
   "outputs": [],
   "source": [
    "df.columns = [replace_col.get(c, c) for c in df.columns]"
   ]
  },
  {
   "cell_type": "markdown",
   "metadata": {},
   "source": [
    "Let's also reorder the column for readibility."
   ]
  },
  {
   "cell_type": "code",
   "execution_count": 19,
   "metadata": {
    "collapsed": true
   },
   "outputs": [],
   "source": [
    "df = df[['type', '2nd type', '3rd type', 'notes']]"
   ]
  },
  {
   "cell_type": "code",
   "execution_count": 20,
   "metadata": {},
   "outputs": [
    {
     "data": {
      "text/html": [
       "<div>\n",
       "<style>\n",
       "    .dataframe thead tr:only-child th {\n",
       "        text-align: right;\n",
       "    }\n",
       "\n",
       "    .dataframe thead th {\n",
       "        text-align: left;\n",
       "    }\n",
       "\n",
       "    .dataframe tbody tr th {\n",
       "        vertical-align: top;\n",
       "    }\n",
       "</style>\n",
       "<table border=\"1\" class=\"dataframe\">\n",
       "  <thead>\n",
       "    <tr style=\"text-align: right;\">\n",
       "      <th></th>\n",
       "      <th>type</th>\n",
       "      <th>2nd type</th>\n",
       "      <th>3rd type</th>\n",
       "      <th>notes</th>\n",
       "    </tr>\n",
       "    <tr>\n",
       "      <th>domain</th>\n",
       "      <th></th>\n",
       "      <th></th>\n",
       "      <th></th>\n",
       "      <th></th>\n",
       "    </tr>\n",
       "  </thead>\n",
       "  <tbody>\n",
       "    <tr>\n",
       "      <th>100percentfedup.com</th>\n",
       "      <td>bias</td>\n",
       "      <td></td>\n",
       "      <td></td>\n",
       "      <td></td>\n",
       "    </tr>\n",
       "    <tr>\n",
       "      <th>16wmpo.com</th>\n",
       "      <td>fake</td>\n",
       "      <td></td>\n",
       "      <td></td>\n",
       "      <td>http://www.politifact.com/punditfact/article/2...</td>\n",
       "    </tr>\n",
       "    <tr>\n",
       "      <th>21stcenturywire.com</th>\n",
       "      <td>conspiracy</td>\n",
       "      <td></td>\n",
       "      <td></td>\n",
       "      <td></td>\n",
       "    </tr>\n",
       "    <tr>\n",
       "      <th>24newsflash.com</th>\n",
       "      <td>fake</td>\n",
       "      <td></td>\n",
       "      <td></td>\n",
       "      <td></td>\n",
       "    </tr>\n",
       "    <tr>\n",
       "      <th>24wpn.com</th>\n",
       "      <td>fake</td>\n",
       "      <td></td>\n",
       "      <td></td>\n",
       "      <td>http://www.politifact.com/punditfact/article/2...</td>\n",
       "    </tr>\n",
       "    <tr>\n",
       "      <th>365usanews.com</th>\n",
       "      <td>bias</td>\n",
       "      <td>conspiracy</td>\n",
       "      <td></td>\n",
       "      <td></td>\n",
       "    </tr>\n",
       "    <tr>\n",
       "      <th>4threvolutionarywar.wordpress.com</th>\n",
       "      <td>bias</td>\n",
       "      <td>conspiracy</td>\n",
       "      <td></td>\n",
       "      <td></td>\n",
       "    </tr>\n",
       "    <tr>\n",
       "      <th>70news.wordpress.com</th>\n",
       "      <td>fake</td>\n",
       "      <td></td>\n",
       "      <td></td>\n",
       "      <td></td>\n",
       "    </tr>\n",
       "    <tr>\n",
       "      <th>82.221.129.208</th>\n",
       "      <td>conspiracy</td>\n",
       "      <td>fake</td>\n",
       "      <td></td>\n",
       "      <td></td>\n",
       "    </tr>\n",
       "    <tr>\n",
       "      <th>Acting-Man.com</th>\n",
       "      <td>unreliable</td>\n",
       "      <td>conspiracy</td>\n",
       "      <td></td>\n",
       "      <td>publishes articles denying climate change</td>\n",
       "    </tr>\n",
       "  </tbody>\n",
       "</table>\n",
       "</div>"
      ],
      "text/plain": [
       "                                         type    2nd type 3rd type  \\\n",
       "domain                                                               \n",
       "100percentfedup.com                      bias                        \n",
       "16wmpo.com                               fake                        \n",
       "21stcenturywire.com                conspiracy                        \n",
       "24newsflash.com                          fake                        \n",
       "24wpn.com                                fake                        \n",
       "365usanews.com                           bias  conspiracy            \n",
       "4threvolutionarywar.wordpress.com        bias  conspiracy            \n",
       "70news.wordpress.com                     fake                        \n",
       "82.221.129.208                     conspiracy        fake            \n",
       "Acting-Man.com                     unreliable  conspiracy            \n",
       "\n",
       "                                                                               notes  \n",
       "domain                                                                                \n",
       "100percentfedup.com                                                                   \n",
       "16wmpo.com                         http://www.politifact.com/punditfact/article/2...  \n",
       "21stcenturywire.com                                                                   \n",
       "24newsflash.com                                                                       \n",
       "24wpn.com                          http://www.politifact.com/punditfact/article/2...  \n",
       "365usanews.com                                                                        \n",
       "4threvolutionarywar.wordpress.com                                                     \n",
       "70news.wordpress.com                                                                  \n",
       "82.221.129.208                                                                        \n",
       "Acting-Man.com                             publishes articles denying climate change  "
      ]
     },
     "execution_count": 20,
     "metadata": {},
     "output_type": "execute_result"
    }
   ],
   "source": [
    "df.head(10)"
   ]
  },
  {
   "cell_type": "markdown",
   "metadata": {},
   "source": [
    "### Data Processing - Making categories standard <a id='whoops'></a>\n",
    "If we look at all the available categories, you'll see some inconsistences:"
   ]
  },
  {
   "cell_type": "code",
   "execution_count": 21,
   "metadata": {},
   "outputs": [
    {
     "data": {
      "text/plain": [
       "array(['bias', 'fake', 'conspiracy', 'unreliable', 'junksci', 'political',\n",
       "       'hate', 'fake news', 'clickbait', 'satire', 'rumor', 'reliable',\n",
       "       'Conspiracy', 'rumor ', 'fake ', 'state'], dtype=object)"
      ]
     },
     "execution_count": 21,
     "metadata": {},
     "output_type": "execute_result"
    }
   ],
   "source": [
    "df['type'].unique()"
   ]
  },
  {
   "cell_type": "code",
   "execution_count": 22,
   "metadata": {},
   "outputs": [
    {
     "data": {
      "text/plain": [
       "array(['', 'conspiracy', 'fake', 'bias', 'fake news', 'clickbait', 'hate',\n",
       "       'unrealiable', 'unreliable', 'rumor', 'reliable', 'satire',\n",
       "       'junksci', 'political', 'Fake', 'blog', 'satirical', 'state'], dtype=object)"
      ]
     },
     "execution_count": 22,
     "metadata": {},
     "output_type": "execute_result"
    }
   ],
   "source": [
    "df['2nd type'].unique()"
   ]
  },
  {
   "cell_type": "code",
   "execution_count": 23,
   "metadata": {},
   "outputs": [
    {
     "data": {
      "text/plain": [
       "array(['', 'fake', 'unreliable', 'clickbait', 'satire', 'bias', 'rumor',\n",
       "       'hate', 'Political', 'conspiracy', 'political', 'junksci',\n",
       "       ' unreliable'], dtype=object)"
      ]
     },
     "execution_count": 23,
     "metadata": {},
     "output_type": "execute_result"
    }
   ],
   "source": [
    "df['3rd type'].unique()"
   ]
  },
  {
   "cell_type": "markdown",
   "metadata": {},
   "source": [
    "Some categories here are redundant, or misspelt.<br>\n",
    "> see \"fake\" and \"fake news\", \"unrealiable\" and \"unreliable.\"<br>\n",
    "\n",
    "We can use use a dictionary again to replace **values** on the left (`fake news`) with **keys** on the right (`fake`)."
   ]
  },
  {
   "cell_type": "code",
   "execution_count": 24,
   "metadata": {
    "collapsed": true
   },
   "outputs": [],
   "source": [
    "replace_vals = {\n",
    "    'fake news' : 'fake',\n",
    "    'satirical' : 'satire',\n",
    "    'unrealiable': 'unreliable',\n",
    "    'blog' : np.nan\n",
    "}"
   ]
  },
  {
   "cell_type": "markdown",
   "metadata": {},
   "source": [
    "We can group all our data preprocessing in one function."
   ]
  },
  {
   "cell_type": "code",
   "execution_count": 25,
   "metadata": {
    "collapsed": true
   },
   "outputs": [],
   "source": [
    "def clean_type(value):\n",
    "    '''\n",
    "    This function clean various type values (str).\n",
    "    \n",
    "    If the value is not null,\n",
    "    the value is cast to a string,\n",
    "    leading and trailing zeros are removed,\n",
    "    cast to lower case,\n",
    "    and redundant values are replaced.\n",
    "    \n",
    "    returns either None, or a cleaned string.\n",
    "    '''\n",
    "    if value and value != np.nan:\n",
    "        value = str(value)\n",
    "        value = value.strip().lower()\n",
    "        value = replace_vals.get(value, value)\n",
    "        return value\n",
    "    else:\n",
    "        return None"
   ]
  },
  {
   "cell_type": "code",
   "execution_count": 26,
   "metadata": {
    "collapsed": true
   },
   "outputs": [],
   "source": [
    "df.fillna(value=0, inplace=True)"
   ]
  },
  {
   "cell_type": "markdown",
   "metadata": {},
   "source": [
    "We'll now loop through each of the columns,<br>\n",
    "and run the `clean_type` function on all the values in each column."
   ]
  },
  {
   "cell_type": "code",
   "execution_count": 27,
   "metadata": {
    "collapsed": true
   },
   "outputs": [],
   "source": [
    "for col in ['type', '2nd type', '3rd type']:\n",
    "    df[col] = df[col].apply(clean_type)"
   ]
  },
  {
   "cell_type": "code",
   "execution_count": 28,
   "metadata": {},
   "outputs": [
    {
     "data": {
      "text/plain": [
       "array(['bias', 'fake', 'conspiracy', 'unreliable', 'junksci', 'political',\n",
       "       'hate', 'clickbait', 'satire', 'rumor', 'reliable', 'state'], dtype=object)"
      ]
     },
     "execution_count": 28,
     "metadata": {},
     "output_type": "execute_result"
    }
   ],
   "source": [
    "df['type'].unique()"
   ]
  },
  {
   "cell_type": "markdown",
   "metadata": {},
   "source": [
    "### One-Hot Encoding <a id='hot'></a>\n",
    "One-hot encoding is used to make a sparse matrix from a single categorical column.<br>\n",
    "Let's use this toy example to understand:"
   ]
  },
  {
   "cell_type": "code",
   "execution_count": 29,
   "metadata": {},
   "outputs": [
    {
     "data": {
      "text/html": [
       "<div>\n",
       "<style>\n",
       "    .dataframe thead tr:only-child th {\n",
       "        text-align: right;\n",
       "    }\n",
       "\n",
       "    .dataframe thead th {\n",
       "        text-align: left;\n",
       "    }\n",
       "\n",
       "    .dataframe tbody tr th {\n",
       "        vertical-align: top;\n",
       "    }\n",
       "</style>\n",
       "<table border=\"1\" class=\"dataframe\">\n",
       "  <thead>\n",
       "    <tr style=\"text-align: right;\">\n",
       "      <th></th>\n",
       "      <th>color</th>\n",
       "    </tr>\n",
       "  </thead>\n",
       "  <tbody>\n",
       "    <tr>\n",
       "      <th>0</th>\n",
       "      <td>blue</td>\n",
       "    </tr>\n",
       "    <tr>\n",
       "      <th>1</th>\n",
       "      <td>black</td>\n",
       "    </tr>\n",
       "    <tr>\n",
       "      <th>2</th>\n",
       "      <td>red</td>\n",
       "    </tr>\n",
       "  </tbody>\n",
       "</table>\n",
       "</div>"
      ],
      "text/plain": [
       "   color\n",
       "0   blue\n",
       "1  black\n",
       "2    red"
      ]
     },
     "execution_count": 29,
     "metadata": {},
     "output_type": "execute_result"
    }
   ],
   "source": [
    "df_example = pd.DataFrame([\n",
    "    {'color' : 'blue'},\n",
    "    {'color' : 'black'},\n",
    "    {'color' : 'red'},\n",
    "    \n",
    "])\n",
    "\n",
    "df_example"
   ]
  },
  {
   "cell_type": "code",
   "execution_count": 30,
   "metadata": {},
   "outputs": [
    {
     "data": {
      "text/html": [
       "<div>\n",
       "<style>\n",
       "    .dataframe thead tr:only-child th {\n",
       "        text-align: right;\n",
       "    }\n",
       "\n",
       "    .dataframe thead th {\n",
       "        text-align: left;\n",
       "    }\n",
       "\n",
       "    .dataframe tbody tr th {\n",
       "        vertical-align: top;\n",
       "    }\n",
       "</style>\n",
       "<table border=\"1\" class=\"dataframe\">\n",
       "  <thead>\n",
       "    <tr style=\"text-align: right;\">\n",
       "      <th></th>\n",
       "      <th>color_black</th>\n",
       "      <th>color_blue</th>\n",
       "      <th>color_red</th>\n",
       "    </tr>\n",
       "  </thead>\n",
       "  <tbody>\n",
       "    <tr>\n",
       "      <th>0</th>\n",
       "      <td>0</td>\n",
       "      <td>1</td>\n",
       "      <td>0</td>\n",
       "    </tr>\n",
       "    <tr>\n",
       "      <th>1</th>\n",
       "      <td>1</td>\n",
       "      <td>0</td>\n",
       "      <td>0</td>\n",
       "    </tr>\n",
       "    <tr>\n",
       "      <th>2</th>\n",
       "      <td>0</td>\n",
       "      <td>0</td>\n",
       "      <td>1</td>\n",
       "    </tr>\n",
       "  </tbody>\n",
       "</table>\n",
       "</div>"
      ],
      "text/plain": [
       "   color_black  color_blue  color_red\n",
       "0            0           1          0\n",
       "1            1           0          0\n",
       "2            0           0          1"
      ]
     },
     "execution_count": 30,
     "metadata": {},
     "output_type": "execute_result"
    }
   ],
   "source": [
    "pd.get_dummies(df_example)"
   ]
  },
  {
   "cell_type": "markdown",
   "metadata": {},
   "source": [
    "We just made the data machine-readible by transforming a categorical column to three numerical columns.\n",
    "\n",
    "### We're going to do the same for each website category opensources!\n",
    "#### Problem 1:\n",
    "One-hot encoding converts one-column to many, <br>\n",
    "but we have 3 columns we need to encode! <br>\n",
    "One possibility would be to one-hot encode each column into three sparse matricies, and then add them up.\n",
    "\n",
    "#### Problem 2:\n",
    "However, [not all columns share the same categoires](#whoops), so  we'll get three different one-hot encoded sparse matricies."
   ]
  },
  {
   "cell_type": "markdown",
   "metadata": {},
   "source": [
    "#### Answer?\n",
    "We can fix that by collecting all possible categories, and appending them to each column that gets one hot encoded. \n",
    "\n",
    "We can collect all the categories accross the three columns using `pd.unique`."
   ]
  },
  {
   "cell_type": "code",
   "execution_count": 31,
   "metadata": {
    "collapsed": true
   },
   "outputs": [],
   "source": [
    "all_hot_encodings = pd.Series(pd.unique(df[['type', '2nd type', '3rd type']].values.ravel('K')))"
   ]
  },
  {
   "cell_type": "code",
   "execution_count": 32,
   "metadata": {},
   "outputs": [
    {
     "data": {
      "text/plain": [
       "0           bias\n",
       "1           fake\n",
       "2     conspiracy\n",
       "3     unreliable\n",
       "4        junksci\n",
       "5      political\n",
       "6           hate\n",
       "7      clickbait\n",
       "8         satire\n",
       "9          rumor\n",
       "10      reliable\n",
       "11         state\n",
       "12          None\n",
       "13           NaN\n",
       "dtype: object"
      ]
     },
     "execution_count": 32,
     "metadata": {},
     "output_type": "execute_result"
    }
   ],
   "source": [
    "all_hot_encodings"
   ]
  },
  {
   "cell_type": "markdown",
   "metadata": {},
   "source": [
    "### What did we just do?\n",
    "Flatten all the categories across the three columns using `ravel`, which transforms this:"
   ]
  },
  {
   "cell_type": "code",
   "execution_count": 33,
   "metadata": {},
   "outputs": [
    {
     "data": {
      "text/plain": [
       "array([['bias', None, None],\n",
       "       ['fake', None, None],\n",
       "       ['conspiracy', None, None],\n",
       "       ..., \n",
       "       ['clickbait', 'junksci', None],\n",
       "       ['conspiracy', None, None],\n",
       "       ['conspiracy', None, None]], dtype=object)"
      ]
     },
     "execution_count": 33,
     "metadata": {},
     "output_type": "execute_result"
    }
   ],
   "source": [
    "df[['type', '2nd type', '3rd type']].values"
   ]
  },
  {
   "cell_type": "markdown",
   "metadata": {},
   "source": [
    "into this:"
   ]
  },
  {
   "cell_type": "code",
   "execution_count": 34,
   "metadata": {},
   "outputs": [
    {
     "data": {
      "text/plain": [
       "array(['bias', 'fake', 'conspiracy', ..., None, None, None], dtype=object)"
      ]
     },
     "execution_count": 34,
     "metadata": {},
     "output_type": "execute_result"
    }
   ],
   "source": [
    "df[['type', '2nd type', '3rd type']].values.ravel('K')"
   ]
  },
  {
   "cell_type": "markdown",
   "metadata": {},
   "source": [
    "And then we use `pd.unique` to turn the flattened Series into a list of unique values.\n",
    "\n",
    "### Time to encode\n",
    "Now let's append the Series of unique categories to each column, and one-hot encode them using `get_dummies`."
   ]
  },
  {
   "cell_type": "code",
   "execution_count": 35,
   "metadata": {
    "collapsed": true
   },
   "outputs": [],
   "source": [
    "dum1 = pd.get_dummies(df['type'].append(all_hot_encodings))\n",
    "dum2 = pd.get_dummies(df['2nd type'].append(all_hot_encodings))\n",
    "dum3 = pd.get_dummies(df['3rd type'].append(all_hot_encodings))"
   ]
  },
  {
   "cell_type": "markdown",
   "metadata": {},
   "source": [
    "Let's get the max value for each one-hot encoded column.<br>\n",
    "By doing so we can combine the three columns information into one dataframe. <br>"
   ]
  },
  {
   "cell_type": "code",
   "execution_count": 36,
   "metadata": {
    "collapsed": true,
    "scrolled": true
   },
   "outputs": [],
   "source": [
    "__d = dum1.where(dum1 > dum2, dum2)\n",
    "__d = __d.where(__d > dum3, dum3)"
   ]
  },
  {
   "cell_type": "markdown",
   "metadata": {},
   "source": [
    "#### Why not take the sum?\n",
    "Taking a sum is also an option, but across rows I noticed duplicate categories between columns.<br> This would return one-hot encoded columns of 2 or 3!\n",
    "\n",
    "lastly, let's remove the rows from the unique categorical values we appended."
   ]
  },
  {
   "cell_type": "code",
   "execution_count": 37,
   "metadata": {},
   "outputs": [
    {
     "data": {
      "text/html": [
       "<div>\n",
       "<style>\n",
       "    .dataframe thead tr:only-child th {\n",
       "        text-align: right;\n",
       "    }\n",
       "\n",
       "    .dataframe thead th {\n",
       "        text-align: left;\n",
       "    }\n",
       "\n",
       "    .dataframe tbody tr th {\n",
       "        vertical-align: top;\n",
       "    }\n",
       "</style>\n",
       "<table border=\"1\" class=\"dataframe\">\n",
       "  <thead>\n",
       "    <tr style=\"text-align: right;\">\n",
       "      <th></th>\n",
       "      <th>bias</th>\n",
       "      <th>clickbait</th>\n",
       "      <th>conspiracy</th>\n",
       "      <th>fake</th>\n",
       "      <th>hate</th>\n",
       "      <th>junksci</th>\n",
       "      <th>political</th>\n",
       "      <th>reliable</th>\n",
       "      <th>rumor</th>\n",
       "      <th>satire</th>\n",
       "      <th>state</th>\n",
       "      <th>unreliable</th>\n",
       "    </tr>\n",
       "  </thead>\n",
       "  <tbody>\n",
       "    <tr>\n",
       "      <th>1</th>\n",
       "      <td>0</td>\n",
       "      <td>0</td>\n",
       "      <td>0</td>\n",
       "      <td>1</td>\n",
       "      <td>0</td>\n",
       "      <td>0</td>\n",
       "      <td>0</td>\n",
       "      <td>0</td>\n",
       "      <td>0</td>\n",
       "      <td>0</td>\n",
       "      <td>0</td>\n",
       "      <td>0</td>\n",
       "    </tr>\n",
       "    <tr>\n",
       "      <th>2</th>\n",
       "      <td>0</td>\n",
       "      <td>0</td>\n",
       "      <td>1</td>\n",
       "      <td>0</td>\n",
       "      <td>0</td>\n",
       "      <td>0</td>\n",
       "      <td>0</td>\n",
       "      <td>0</td>\n",
       "      <td>0</td>\n",
       "      <td>0</td>\n",
       "      <td>0</td>\n",
       "      <td>0</td>\n",
       "    </tr>\n",
       "    <tr>\n",
       "      <th>3</th>\n",
       "      <td>0</td>\n",
       "      <td>0</td>\n",
       "      <td>0</td>\n",
       "      <td>0</td>\n",
       "      <td>0</td>\n",
       "      <td>0</td>\n",
       "      <td>0</td>\n",
       "      <td>0</td>\n",
       "      <td>0</td>\n",
       "      <td>0</td>\n",
       "      <td>0</td>\n",
       "      <td>1</td>\n",
       "    </tr>\n",
       "    <tr>\n",
       "      <th>4</th>\n",
       "      <td>0</td>\n",
       "      <td>0</td>\n",
       "      <td>0</td>\n",
       "      <td>0</td>\n",
       "      <td>0</td>\n",
       "      <td>1</td>\n",
       "      <td>0</td>\n",
       "      <td>0</td>\n",
       "      <td>0</td>\n",
       "      <td>0</td>\n",
       "      <td>0</td>\n",
       "      <td>0</td>\n",
       "    </tr>\n",
       "    <tr>\n",
       "      <th>5</th>\n",
       "      <td>0</td>\n",
       "      <td>0</td>\n",
       "      <td>0</td>\n",
       "      <td>0</td>\n",
       "      <td>0</td>\n",
       "      <td>0</td>\n",
       "      <td>1</td>\n",
       "      <td>0</td>\n",
       "      <td>0</td>\n",
       "      <td>0</td>\n",
       "      <td>0</td>\n",
       "      <td>0</td>\n",
       "    </tr>\n",
       "    <tr>\n",
       "      <th>6</th>\n",
       "      <td>0</td>\n",
       "      <td>0</td>\n",
       "      <td>0</td>\n",
       "      <td>0</td>\n",
       "      <td>1</td>\n",
       "      <td>0</td>\n",
       "      <td>0</td>\n",
       "      <td>0</td>\n",
       "      <td>0</td>\n",
       "      <td>0</td>\n",
       "      <td>0</td>\n",
       "      <td>0</td>\n",
       "    </tr>\n",
       "    <tr>\n",
       "      <th>7</th>\n",
       "      <td>0</td>\n",
       "      <td>1</td>\n",
       "      <td>0</td>\n",
       "      <td>0</td>\n",
       "      <td>0</td>\n",
       "      <td>0</td>\n",
       "      <td>0</td>\n",
       "      <td>0</td>\n",
       "      <td>0</td>\n",
       "      <td>0</td>\n",
       "      <td>0</td>\n",
       "      <td>0</td>\n",
       "    </tr>\n",
       "    <tr>\n",
       "      <th>8</th>\n",
       "      <td>0</td>\n",
       "      <td>0</td>\n",
       "      <td>0</td>\n",
       "      <td>0</td>\n",
       "      <td>0</td>\n",
       "      <td>0</td>\n",
       "      <td>0</td>\n",
       "      <td>0</td>\n",
       "      <td>0</td>\n",
       "      <td>1</td>\n",
       "      <td>0</td>\n",
       "      <td>0</td>\n",
       "    </tr>\n",
       "    <tr>\n",
       "      <th>9</th>\n",
       "      <td>0</td>\n",
       "      <td>0</td>\n",
       "      <td>0</td>\n",
       "      <td>0</td>\n",
       "      <td>0</td>\n",
       "      <td>0</td>\n",
       "      <td>0</td>\n",
       "      <td>0</td>\n",
       "      <td>1</td>\n",
       "      <td>0</td>\n",
       "      <td>0</td>\n",
       "      <td>0</td>\n",
       "    </tr>\n",
       "    <tr>\n",
       "      <th>10</th>\n",
       "      <td>0</td>\n",
       "      <td>0</td>\n",
       "      <td>0</td>\n",
       "      <td>0</td>\n",
       "      <td>0</td>\n",
       "      <td>0</td>\n",
       "      <td>0</td>\n",
       "      <td>1</td>\n",
       "      <td>0</td>\n",
       "      <td>0</td>\n",
       "      <td>0</td>\n",
       "      <td>0</td>\n",
       "    </tr>\n",
       "    <tr>\n",
       "      <th>11</th>\n",
       "      <td>0</td>\n",
       "      <td>0</td>\n",
       "      <td>0</td>\n",
       "      <td>0</td>\n",
       "      <td>0</td>\n",
       "      <td>0</td>\n",
       "      <td>0</td>\n",
       "      <td>0</td>\n",
       "      <td>0</td>\n",
       "      <td>0</td>\n",
       "      <td>1</td>\n",
       "      <td>0</td>\n",
       "    </tr>\n",
       "    <tr>\n",
       "      <th>12</th>\n",
       "      <td>0</td>\n",
       "      <td>0</td>\n",
       "      <td>0</td>\n",
       "      <td>0</td>\n",
       "      <td>0</td>\n",
       "      <td>0</td>\n",
       "      <td>0</td>\n",
       "      <td>0</td>\n",
       "      <td>0</td>\n",
       "      <td>0</td>\n",
       "      <td>0</td>\n",
       "      <td>0</td>\n",
       "    </tr>\n",
       "    <tr>\n",
       "      <th>13</th>\n",
       "      <td>0</td>\n",
       "      <td>0</td>\n",
       "      <td>0</td>\n",
       "      <td>0</td>\n",
       "      <td>0</td>\n",
       "      <td>0</td>\n",
       "      <td>0</td>\n",
       "      <td>0</td>\n",
       "      <td>0</td>\n",
       "      <td>0</td>\n",
       "      <td>0</td>\n",
       "      <td>0</td>\n",
       "    </tr>\n",
       "  </tbody>\n",
       "</table>\n",
       "</div>"
      ],
      "text/plain": [
       "    bias  clickbait  conspiracy  fake  hate  junksci  political  reliable  \\\n",
       "1      0          0           0     1     0        0          0         0   \n",
       "2      0          0           1     0     0        0          0         0   \n",
       "3      0          0           0     0     0        0          0         0   \n",
       "4      0          0           0     0     0        1          0         0   \n",
       "5      0          0           0     0     0        0          1         0   \n",
       "6      0          0           0     0     1        0          0         0   \n",
       "7      0          1           0     0     0        0          0         0   \n",
       "8      0          0           0     0     0        0          0         0   \n",
       "9      0          0           0     0     0        0          0         0   \n",
       "10     0          0           0     0     0        0          0         1   \n",
       "11     0          0           0     0     0        0          0         0   \n",
       "12     0          0           0     0     0        0          0         0   \n",
       "13     0          0           0     0     0        0          0         0   \n",
       "\n",
       "    rumor  satire  state  unreliable  \n",
       "1       0       0      0           0  \n",
       "2       0       0      0           0  \n",
       "3       0       0      0           1  \n",
       "4       0       0      0           0  \n",
       "5       0       0      0           0  \n",
       "6       0       0      0           0  \n",
       "7       0       0      0           0  \n",
       "8       0       1      0           0  \n",
       "9       1       0      0           0  \n",
       "10      0       0      0           0  \n",
       "11      0       0      1           0  \n",
       "12      0       0      0           0  \n",
       "13      0       0      0           0  "
      ]
     },
     "execution_count": 37,
     "metadata": {},
     "output_type": "execute_result"
    }
   ],
   "source": [
    "__d.tail(len(all_hot_encodings) - 1)"
   ]
  },
  {
   "cell_type": "code",
   "execution_count": 38,
   "metadata": {
    "collapsed": true
   },
   "outputs": [],
   "source": [
    "dummies = __d.iloc[:-len(all_hot_encodings)]"
   ]
  },
  {
   "cell_type": "markdown",
   "metadata": {},
   "source": [
    "Now we have a wonderful new dataset!"
   ]
  },
  {
   "cell_type": "code",
   "execution_count": 39,
   "metadata": {
    "scrolled": true
   },
   "outputs": [
    {
     "data": {
      "text/html": [
       "<div>\n",
       "<style>\n",
       "    .dataframe thead tr:only-child th {\n",
       "        text-align: right;\n",
       "    }\n",
       "\n",
       "    .dataframe thead th {\n",
       "        text-align: left;\n",
       "    }\n",
       "\n",
       "    .dataframe tbody tr th {\n",
       "        vertical-align: top;\n",
       "    }\n",
       "</style>\n",
       "<table border=\"1\" class=\"dataframe\">\n",
       "  <thead>\n",
       "    <tr style=\"text-align: right;\">\n",
       "      <th></th>\n",
       "      <th>bias</th>\n",
       "      <th>clickbait</th>\n",
       "      <th>conspiracy</th>\n",
       "      <th>fake</th>\n",
       "      <th>hate</th>\n",
       "      <th>junksci</th>\n",
       "      <th>political</th>\n",
       "      <th>reliable</th>\n",
       "      <th>rumor</th>\n",
       "      <th>satire</th>\n",
       "      <th>state</th>\n",
       "      <th>unreliable</th>\n",
       "    </tr>\n",
       "  </thead>\n",
       "  <tbody>\n",
       "    <tr>\n",
       "      <th>100percentfedup.com</th>\n",
       "      <td>1</td>\n",
       "      <td>0</td>\n",
       "      <td>0</td>\n",
       "      <td>0</td>\n",
       "      <td>0</td>\n",
       "      <td>0</td>\n",
       "      <td>0</td>\n",
       "      <td>0</td>\n",
       "      <td>0</td>\n",
       "      <td>0</td>\n",
       "      <td>0</td>\n",
       "      <td>0</td>\n",
       "    </tr>\n",
       "    <tr>\n",
       "      <th>16wmpo.com</th>\n",
       "      <td>0</td>\n",
       "      <td>0</td>\n",
       "      <td>0</td>\n",
       "      <td>1</td>\n",
       "      <td>0</td>\n",
       "      <td>0</td>\n",
       "      <td>0</td>\n",
       "      <td>0</td>\n",
       "      <td>0</td>\n",
       "      <td>0</td>\n",
       "      <td>0</td>\n",
       "      <td>0</td>\n",
       "    </tr>\n",
       "    <tr>\n",
       "      <th>21stcenturywire.com</th>\n",
       "      <td>0</td>\n",
       "      <td>0</td>\n",
       "      <td>1</td>\n",
       "      <td>0</td>\n",
       "      <td>0</td>\n",
       "      <td>0</td>\n",
       "      <td>0</td>\n",
       "      <td>0</td>\n",
       "      <td>0</td>\n",
       "      <td>0</td>\n",
       "      <td>0</td>\n",
       "      <td>0</td>\n",
       "    </tr>\n",
       "    <tr>\n",
       "      <th>24newsflash.com</th>\n",
       "      <td>0</td>\n",
       "      <td>0</td>\n",
       "      <td>0</td>\n",
       "      <td>1</td>\n",
       "      <td>0</td>\n",
       "      <td>0</td>\n",
       "      <td>0</td>\n",
       "      <td>0</td>\n",
       "      <td>0</td>\n",
       "      <td>0</td>\n",
       "      <td>0</td>\n",
       "      <td>0</td>\n",
       "    </tr>\n",
       "    <tr>\n",
       "      <th>24wpn.com</th>\n",
       "      <td>0</td>\n",
       "      <td>0</td>\n",
       "      <td>0</td>\n",
       "      <td>1</td>\n",
       "      <td>0</td>\n",
       "      <td>0</td>\n",
       "      <td>0</td>\n",
       "      <td>0</td>\n",
       "      <td>0</td>\n",
       "      <td>0</td>\n",
       "      <td>0</td>\n",
       "      <td>0</td>\n",
       "    </tr>\n",
       "    <tr>\n",
       "      <th>365usanews.com</th>\n",
       "      <td>1</td>\n",
       "      <td>0</td>\n",
       "      <td>1</td>\n",
       "      <td>0</td>\n",
       "      <td>0</td>\n",
       "      <td>0</td>\n",
       "      <td>0</td>\n",
       "      <td>0</td>\n",
       "      <td>0</td>\n",
       "      <td>0</td>\n",
       "      <td>0</td>\n",
       "      <td>0</td>\n",
       "    </tr>\n",
       "    <tr>\n",
       "      <th>4threvolutionarywar.wordpress.com</th>\n",
       "      <td>1</td>\n",
       "      <td>0</td>\n",
       "      <td>1</td>\n",
       "      <td>0</td>\n",
       "      <td>0</td>\n",
       "      <td>0</td>\n",
       "      <td>0</td>\n",
       "      <td>0</td>\n",
       "      <td>0</td>\n",
       "      <td>0</td>\n",
       "      <td>0</td>\n",
       "      <td>0</td>\n",
       "    </tr>\n",
       "    <tr>\n",
       "      <th>70news.wordpress.com</th>\n",
       "      <td>0</td>\n",
       "      <td>0</td>\n",
       "      <td>0</td>\n",
       "      <td>1</td>\n",
       "      <td>0</td>\n",
       "      <td>0</td>\n",
       "      <td>0</td>\n",
       "      <td>0</td>\n",
       "      <td>0</td>\n",
       "      <td>0</td>\n",
       "      <td>0</td>\n",
       "      <td>0</td>\n",
       "    </tr>\n",
       "    <tr>\n",
       "      <th>82.221.129.208</th>\n",
       "      <td>0</td>\n",
       "      <td>0</td>\n",
       "      <td>1</td>\n",
       "      <td>1</td>\n",
       "      <td>0</td>\n",
       "      <td>0</td>\n",
       "      <td>0</td>\n",
       "      <td>0</td>\n",
       "      <td>0</td>\n",
       "      <td>0</td>\n",
       "      <td>0</td>\n",
       "      <td>0</td>\n",
       "    </tr>\n",
       "    <tr>\n",
       "      <th>Acting-Man.com</th>\n",
       "      <td>0</td>\n",
       "      <td>0</td>\n",
       "      <td>1</td>\n",
       "      <td>0</td>\n",
       "      <td>0</td>\n",
       "      <td>0</td>\n",
       "      <td>0</td>\n",
       "      <td>0</td>\n",
       "      <td>0</td>\n",
       "      <td>0</td>\n",
       "      <td>0</td>\n",
       "      <td>1</td>\n",
       "    </tr>\n",
       "  </tbody>\n",
       "</table>\n",
       "</div>"
      ],
      "text/plain": [
       "                                   bias  clickbait  conspiracy  fake  hate  \\\n",
       "100percentfedup.com                   1          0           0     0     0   \n",
       "16wmpo.com                            0          0           0     1     0   \n",
       "21stcenturywire.com                   0          0           1     0     0   \n",
       "24newsflash.com                       0          0           0     1     0   \n",
       "24wpn.com                             0          0           0     1     0   \n",
       "365usanews.com                        1          0           1     0     0   \n",
       "4threvolutionarywar.wordpress.com     1          0           1     0     0   \n",
       "70news.wordpress.com                  0          0           0     1     0   \n",
       "82.221.129.208                        0          0           1     1     0   \n",
       "Acting-Man.com                        0          0           1     0     0   \n",
       "\n",
       "                                   junksci  political  reliable  rumor  \\\n",
       "100percentfedup.com                      0          0         0      0   \n",
       "16wmpo.com                               0          0         0      0   \n",
       "21stcenturywire.com                      0          0         0      0   \n",
       "24newsflash.com                          0          0         0      0   \n",
       "24wpn.com                                0          0         0      0   \n",
       "365usanews.com                           0          0         0      0   \n",
       "4threvolutionarywar.wordpress.com        0          0         0      0   \n",
       "70news.wordpress.com                     0          0         0      0   \n",
       "82.221.129.208                           0          0         0      0   \n",
       "Acting-Man.com                           0          0         0      0   \n",
       "\n",
       "                                   satire  state  unreliable  \n",
       "100percentfedup.com                     0      0           0  \n",
       "16wmpo.com                              0      0           0  \n",
       "21stcenturywire.com                     0      0           0  \n",
       "24newsflash.com                         0      0           0  \n",
       "24wpn.com                               0      0           0  \n",
       "365usanews.com                          0      0           0  \n",
       "4threvolutionarywar.wordpress.com       0      0           0  \n",
       "70news.wordpress.com                    0      0           0  \n",
       "82.221.129.208                          0      0           0  \n",
       "Acting-Man.com                          0      0           1  "
      ]
     },
     "execution_count": 39,
     "metadata": {},
     "output_type": "execute_result"
    }
   ],
   "source": [
    "dummies.head(10)"
   ]
  },
  {
   "cell_type": "markdown",
   "metadata": {},
   "source": [
    "let's add the notes to this new dataset by concatenating `dummies` with `df` row-wise."
   ]
  },
  {
   "cell_type": "code",
   "execution_count": 40,
   "metadata": {
    "collapsed": true
   },
   "outputs": [],
   "source": [
    "df_news = pd.concat([dummies, df['notes']], axis=1)"
   ]
  },
  {
   "cell_type": "code",
   "execution_count": 41,
   "metadata": {},
   "outputs": [
    {
     "data": {
      "text/html": [
       "<div>\n",
       "<style>\n",
       "    .dataframe thead tr:only-child th {\n",
       "        text-align: right;\n",
       "    }\n",
       "\n",
       "    .dataframe thead th {\n",
       "        text-align: left;\n",
       "    }\n",
       "\n",
       "    .dataframe tbody tr th {\n",
       "        vertical-align: top;\n",
       "    }\n",
       "</style>\n",
       "<table border=\"1\" class=\"dataframe\">\n",
       "  <thead>\n",
       "    <tr style=\"text-align: right;\">\n",
       "      <th></th>\n",
       "      <th>bias</th>\n",
       "      <th>clickbait</th>\n",
       "      <th>conspiracy</th>\n",
       "      <th>fake</th>\n",
       "      <th>hate</th>\n",
       "      <th>junksci</th>\n",
       "      <th>political</th>\n",
       "      <th>reliable</th>\n",
       "      <th>rumor</th>\n",
       "      <th>satire</th>\n",
       "      <th>state</th>\n",
       "      <th>unreliable</th>\n",
       "      <th>notes</th>\n",
       "    </tr>\n",
       "    <tr>\n",
       "      <th>domain</th>\n",
       "      <th></th>\n",
       "      <th></th>\n",
       "      <th></th>\n",
       "      <th></th>\n",
       "      <th></th>\n",
       "      <th></th>\n",
       "      <th></th>\n",
       "      <th></th>\n",
       "      <th></th>\n",
       "      <th></th>\n",
       "      <th></th>\n",
       "      <th></th>\n",
       "      <th></th>\n",
       "    </tr>\n",
       "  </thead>\n",
       "  <tbody>\n",
       "    <tr>\n",
       "      <th>100percentfedup.com</th>\n",
       "      <td>1</td>\n",
       "      <td>0</td>\n",
       "      <td>0</td>\n",
       "      <td>0</td>\n",
       "      <td>0</td>\n",
       "      <td>0</td>\n",
       "      <td>0</td>\n",
       "      <td>0</td>\n",
       "      <td>0</td>\n",
       "      <td>0</td>\n",
       "      <td>0</td>\n",
       "      <td>0</td>\n",
       "      <td></td>\n",
       "    </tr>\n",
       "    <tr>\n",
       "      <th>16wmpo.com</th>\n",
       "      <td>0</td>\n",
       "      <td>0</td>\n",
       "      <td>0</td>\n",
       "      <td>1</td>\n",
       "      <td>0</td>\n",
       "      <td>0</td>\n",
       "      <td>0</td>\n",
       "      <td>0</td>\n",
       "      <td>0</td>\n",
       "      <td>0</td>\n",
       "      <td>0</td>\n",
       "      <td>0</td>\n",
       "      <td>http://www.politifact.com/punditfact/article/2...</td>\n",
       "    </tr>\n",
       "    <tr>\n",
       "      <th>21stcenturywire.com</th>\n",
       "      <td>0</td>\n",
       "      <td>0</td>\n",
       "      <td>1</td>\n",
       "      <td>0</td>\n",
       "      <td>0</td>\n",
       "      <td>0</td>\n",
       "      <td>0</td>\n",
       "      <td>0</td>\n",
       "      <td>0</td>\n",
       "      <td>0</td>\n",
       "      <td>0</td>\n",
       "      <td>0</td>\n",
       "      <td></td>\n",
       "    </tr>\n",
       "    <tr>\n",
       "      <th>24newsflash.com</th>\n",
       "      <td>0</td>\n",
       "      <td>0</td>\n",
       "      <td>0</td>\n",
       "      <td>1</td>\n",
       "      <td>0</td>\n",
       "      <td>0</td>\n",
       "      <td>0</td>\n",
       "      <td>0</td>\n",
       "      <td>0</td>\n",
       "      <td>0</td>\n",
       "      <td>0</td>\n",
       "      <td>0</td>\n",
       "      <td></td>\n",
       "    </tr>\n",
       "    <tr>\n",
       "      <th>24wpn.com</th>\n",
       "      <td>0</td>\n",
       "      <td>0</td>\n",
       "      <td>0</td>\n",
       "      <td>1</td>\n",
       "      <td>0</td>\n",
       "      <td>0</td>\n",
       "      <td>0</td>\n",
       "      <td>0</td>\n",
       "      <td>0</td>\n",
       "      <td>0</td>\n",
       "      <td>0</td>\n",
       "      <td>0</td>\n",
       "      <td>http://www.politifact.com/punditfact/article/2...</td>\n",
       "    </tr>\n",
       "    <tr>\n",
       "      <th>365usanews.com</th>\n",
       "      <td>1</td>\n",
       "      <td>0</td>\n",
       "      <td>1</td>\n",
       "      <td>0</td>\n",
       "      <td>0</td>\n",
       "      <td>0</td>\n",
       "      <td>0</td>\n",
       "      <td>0</td>\n",
       "      <td>0</td>\n",
       "      <td>0</td>\n",
       "      <td>0</td>\n",
       "      <td>0</td>\n",
       "      <td></td>\n",
       "    </tr>\n",
       "    <tr>\n",
       "      <th>4threvolutionarywar.wordpress.com</th>\n",
       "      <td>1</td>\n",
       "      <td>0</td>\n",
       "      <td>1</td>\n",
       "      <td>0</td>\n",
       "      <td>0</td>\n",
       "      <td>0</td>\n",
       "      <td>0</td>\n",
       "      <td>0</td>\n",
       "      <td>0</td>\n",
       "      <td>0</td>\n",
       "      <td>0</td>\n",
       "      <td>0</td>\n",
       "      <td></td>\n",
       "    </tr>\n",
       "    <tr>\n",
       "      <th>70news.wordpress.com</th>\n",
       "      <td>0</td>\n",
       "      <td>0</td>\n",
       "      <td>0</td>\n",
       "      <td>1</td>\n",
       "      <td>0</td>\n",
       "      <td>0</td>\n",
       "      <td>0</td>\n",
       "      <td>0</td>\n",
       "      <td>0</td>\n",
       "      <td>0</td>\n",
       "      <td>0</td>\n",
       "      <td>0</td>\n",
       "      <td></td>\n",
       "    </tr>\n",
       "    <tr>\n",
       "      <th>82.221.129.208</th>\n",
       "      <td>0</td>\n",
       "      <td>0</td>\n",
       "      <td>1</td>\n",
       "      <td>1</td>\n",
       "      <td>0</td>\n",
       "      <td>0</td>\n",
       "      <td>0</td>\n",
       "      <td>0</td>\n",
       "      <td>0</td>\n",
       "      <td>0</td>\n",
       "      <td>0</td>\n",
       "      <td>0</td>\n",
       "      <td></td>\n",
       "    </tr>\n",
       "    <tr>\n",
       "      <th>Acting-Man.com</th>\n",
       "      <td>0</td>\n",
       "      <td>0</td>\n",
       "      <td>1</td>\n",
       "      <td>0</td>\n",
       "      <td>0</td>\n",
       "      <td>0</td>\n",
       "      <td>0</td>\n",
       "      <td>0</td>\n",
       "      <td>0</td>\n",
       "      <td>0</td>\n",
       "      <td>0</td>\n",
       "      <td>1</td>\n",
       "      <td>publishes articles denying climate change</td>\n",
       "    </tr>\n",
       "  </tbody>\n",
       "</table>\n",
       "</div>"
      ],
      "text/plain": [
       "                                   bias  clickbait  conspiracy  fake  hate  \\\n",
       "domain                                                                       \n",
       "100percentfedup.com                   1          0           0     0     0   \n",
       "16wmpo.com                            0          0           0     1     0   \n",
       "21stcenturywire.com                   0          0           1     0     0   \n",
       "24newsflash.com                       0          0           0     1     0   \n",
       "24wpn.com                             0          0           0     1     0   \n",
       "365usanews.com                        1          0           1     0     0   \n",
       "4threvolutionarywar.wordpress.com     1          0           1     0     0   \n",
       "70news.wordpress.com                  0          0           0     1     0   \n",
       "82.221.129.208                        0          0           1     1     0   \n",
       "Acting-Man.com                        0          0           1     0     0   \n",
       "\n",
       "                                   junksci  political  reliable  rumor  \\\n",
       "domain                                                                   \n",
       "100percentfedup.com                      0          0         0      0   \n",
       "16wmpo.com                               0          0         0      0   \n",
       "21stcenturywire.com                      0          0         0      0   \n",
       "24newsflash.com                          0          0         0      0   \n",
       "24wpn.com                                0          0         0      0   \n",
       "365usanews.com                           0          0         0      0   \n",
       "4threvolutionarywar.wordpress.com        0          0         0      0   \n",
       "70news.wordpress.com                     0          0         0      0   \n",
       "82.221.129.208                           0          0         0      0   \n",
       "Acting-Man.com                           0          0         0      0   \n",
       "\n",
       "                                   satire  state  unreliable  \\\n",
       "domain                                                         \n",
       "100percentfedup.com                     0      0           0   \n",
       "16wmpo.com                              0      0           0   \n",
       "21stcenturywire.com                     0      0           0   \n",
       "24newsflash.com                         0      0           0   \n",
       "24wpn.com                               0      0           0   \n",
       "365usanews.com                          0      0           0   \n",
       "4threvolutionarywar.wordpress.com       0      0           0   \n",
       "70news.wordpress.com                    0      0           0   \n",
       "82.221.129.208                          0      0           0   \n",
       "Acting-Man.com                          0      0           1   \n",
       "\n",
       "                                                                               notes  \n",
       "domain                                                                                \n",
       "100percentfedup.com                                                                   \n",
       "16wmpo.com                         http://www.politifact.com/punditfact/article/2...  \n",
       "21stcenturywire.com                                                                   \n",
       "24newsflash.com                                                                       \n",
       "24wpn.com                          http://www.politifact.com/punditfact/article/2...  \n",
       "365usanews.com                                                                        \n",
       "4threvolutionarywar.wordpress.com                                                     \n",
       "70news.wordpress.com                                                                  \n",
       "82.221.129.208                                                                        \n",
       "Acting-Man.com                             publishes articles denying climate change  "
      ]
     },
     "execution_count": 41,
     "metadata": {},
     "output_type": "execute_result"
    }
   ],
   "source": [
    "df_news.head(10)"
   ]
  },
  {
   "cell_type": "markdown",
   "metadata": {},
   "source": [
    "## Analysis <a id='analysis'></a>\n",
    "With one-hot encoding, the opensources dataset is fast and easy to filter for domains that are considered fake news."
   ]
  },
  {
   "cell_type": "code",
   "execution_count": 42,
   "metadata": {},
   "outputs": [
    {
     "data": {
      "text/plain": [
       "Index(['16wmpo.com', '24newsflash.com', '24wpn.com', '70news.wordpress.com',\n",
       "       '82.221.129.208', 'Amposts.com', 'BB4SP.com', 'DIYhours.net',\n",
       "       'DeadlyClear.wordpress.com', 'DonaldTrumpPotus45.com',\n",
       "       ...\n",
       "       'washingtonpost.com.co', 'webdaily.com', 'weeklyworldnews.com',\n",
       "       'worldpoliticsnow.com', 'worldpoliticsus.com', 'worldrumor.com',\n",
       "       'worldstoriestoday.com', 'wtoe5news.com', 'yesimright.com',\n",
       "       'yourfunpage.com'],\n",
       "      dtype='object', name='domain', length=271)"
      ]
     },
     "execution_count": 42,
     "metadata": {},
     "output_type": "execute_result"
    }
   ],
   "source": [
    "df_news[df_news['fake'] == 1].index"
   ]
  },
  {
   "cell_type": "markdown",
   "metadata": {},
   "source": [
    "We can see how many articles were categorized as conspiracy theory sites."
   ]
  },
  {
   "cell_type": "code",
   "execution_count": 43,
   "metadata": {},
   "outputs": [
    {
     "data": {
      "text/plain": [
       "201"
      ]
     },
     "execution_count": 43,
     "metadata": {},
     "output_type": "execute_result"
    }
   ],
   "source": [
    "df_news['conspiracy'].sum()"
   ]
  },
  {
   "cell_type": "markdown",
   "metadata": {},
   "source": [
    "We can see all sites which are `.org` superdomains."
   ]
  },
  {
   "cell_type": "code",
   "execution_count": 44,
   "metadata": {},
   "outputs": [
    {
     "data": {
      "text/html": [
       "<div>\n",
       "<style>\n",
       "    .dataframe thead tr:only-child th {\n",
       "        text-align: right;\n",
       "    }\n",
       "\n",
       "    .dataframe thead th {\n",
       "        text-align: left;\n",
       "    }\n",
       "\n",
       "    .dataframe tbody tr th {\n",
       "        vertical-align: top;\n",
       "    }\n",
       "</style>\n",
       "<table border=\"1\" class=\"dataframe\">\n",
       "  <thead>\n",
       "    <tr style=\"text-align: right;\">\n",
       "      <th></th>\n",
       "      <th>bias</th>\n",
       "      <th>clickbait</th>\n",
       "      <th>conspiracy</th>\n",
       "      <th>fake</th>\n",
       "      <th>hate</th>\n",
       "      <th>junksci</th>\n",
       "      <th>political</th>\n",
       "      <th>reliable</th>\n",
       "      <th>rumor</th>\n",
       "      <th>satire</th>\n",
       "      <th>state</th>\n",
       "      <th>unreliable</th>\n",
       "      <th>notes</th>\n",
       "    </tr>\n",
       "    <tr>\n",
       "      <th>domain</th>\n",
       "      <th></th>\n",
       "      <th></th>\n",
       "      <th></th>\n",
       "      <th></th>\n",
       "      <th></th>\n",
       "      <th></th>\n",
       "      <th></th>\n",
       "      <th></th>\n",
       "      <th></th>\n",
       "      <th></th>\n",
       "      <th></th>\n",
       "      <th></th>\n",
       "      <th></th>\n",
       "    </tr>\n",
       "  </thead>\n",
       "  <tbody>\n",
       "    <tr>\n",
       "      <th>heartland.org</th>\n",
       "      <td>1</td>\n",
       "      <td>0</td>\n",
       "      <td>0</td>\n",
       "      <td>0</td>\n",
       "      <td>0</td>\n",
       "      <td>0</td>\n",
       "      <td>0</td>\n",
       "      <td>0</td>\n",
       "      <td>0</td>\n",
       "      <td>0</td>\n",
       "      <td>0</td>\n",
       "      <td>0</td>\n",
       "      <td>http://www.sourcewatch.org/index.php/Heartland...</td>\n",
       "    </tr>\n",
       "    <tr>\n",
       "      <th>ExperimentalVaccines.org</th>\n",
       "      <td>0</td>\n",
       "      <td>0</td>\n",
       "      <td>1</td>\n",
       "      <td>0</td>\n",
       "      <td>0</td>\n",
       "      <td>1</td>\n",
       "      <td>0</td>\n",
       "      <td>0</td>\n",
       "      <td>0</td>\n",
       "      <td>0</td>\n",
       "      <td>0</td>\n",
       "      <td>0</td>\n",
       "      <td></td>\n",
       "    </tr>\n",
       "    <tr>\n",
       "      <th>heritage.org</th>\n",
       "      <td>0</td>\n",
       "      <td>0</td>\n",
       "      <td>0</td>\n",
       "      <td>0</td>\n",
       "      <td>0</td>\n",
       "      <td>0</td>\n",
       "      <td>1</td>\n",
       "      <td>0</td>\n",
       "      <td>0</td>\n",
       "      <td>0</td>\n",
       "      <td>0</td>\n",
       "      <td>0</td>\n",
       "      <td></td>\n",
       "    </tr>\n",
       "    <tr>\n",
       "      <th>breakpoint.org</th>\n",
       "      <td>0</td>\n",
       "      <td>0</td>\n",
       "      <td>0</td>\n",
       "      <td>0</td>\n",
       "      <td>0</td>\n",
       "      <td>0</td>\n",
       "      <td>0</td>\n",
       "      <td>0</td>\n",
       "      <td>0</td>\n",
       "      <td>0</td>\n",
       "      <td>0</td>\n",
       "      <td>1</td>\n",
       "      <td></td>\n",
       "    </tr>\n",
       "    <tr>\n",
       "      <th>bigbluevision.org</th>\n",
       "      <td>1</td>\n",
       "      <td>1</td>\n",
       "      <td>0</td>\n",
       "      <td>0</td>\n",
       "      <td>0</td>\n",
       "      <td>0</td>\n",
       "      <td>0</td>\n",
       "      <td>0</td>\n",
       "      <td>0</td>\n",
       "      <td>0</td>\n",
       "      <td>0</td>\n",
       "      <td>0</td>\n",
       "      <td></td>\n",
       "    </tr>\n",
       "    <tr>\n",
       "      <th>witscience.org</th>\n",
       "      <td>0</td>\n",
       "      <td>0</td>\n",
       "      <td>0</td>\n",
       "      <td>0</td>\n",
       "      <td>0</td>\n",
       "      <td>0</td>\n",
       "      <td>0</td>\n",
       "      <td>0</td>\n",
       "      <td>0</td>\n",
       "      <td>1</td>\n",
       "      <td>0</td>\n",
       "      <td>0</td>\n",
       "      <td></td>\n",
       "    </tr>\n",
       "    <tr>\n",
       "      <th>freedomworks.org</th>\n",
       "      <td>0</td>\n",
       "      <td>0</td>\n",
       "      <td>0</td>\n",
       "      <td>0</td>\n",
       "      <td>0</td>\n",
       "      <td>0</td>\n",
       "      <td>1</td>\n",
       "      <td>0</td>\n",
       "      <td>0</td>\n",
       "      <td>0</td>\n",
       "      <td>0</td>\n",
       "      <td>0</td>\n",
       "      <td></td>\n",
       "    </tr>\n",
       "    <tr>\n",
       "      <th>adflegal.org/media</th>\n",
       "      <td>0</td>\n",
       "      <td>0</td>\n",
       "      <td>0</td>\n",
       "      <td>0</td>\n",
       "      <td>1</td>\n",
       "      <td>0</td>\n",
       "      <td>0</td>\n",
       "      <td>0</td>\n",
       "      <td>0</td>\n",
       "      <td>0</td>\n",
       "      <td>0</td>\n",
       "      <td>0</td>\n",
       "      <td>https://www.splcenter.org/fighting-hate/extrem...</td>\n",
       "    </tr>\n",
       "    <tr>\n",
       "      <th>moonofalabama.org</th>\n",
       "      <td>1</td>\n",
       "      <td>0</td>\n",
       "      <td>0</td>\n",
       "      <td>0</td>\n",
       "      <td>0</td>\n",
       "      <td>0</td>\n",
       "      <td>0</td>\n",
       "      <td>0</td>\n",
       "      <td>0</td>\n",
       "      <td>0</td>\n",
       "      <td>0</td>\n",
       "      <td>0</td>\n",
       "      <td></td>\n",
       "    </tr>\n",
       "    <tr>\n",
       "      <th>thefreepatriot.org</th>\n",
       "      <td>1</td>\n",
       "      <td>1</td>\n",
       "      <td>0</td>\n",
       "      <td>1</td>\n",
       "      <td>0</td>\n",
       "      <td>0</td>\n",
       "      <td>0</td>\n",
       "      <td>0</td>\n",
       "      <td>0</td>\n",
       "      <td>0</td>\n",
       "      <td>0</td>\n",
       "      <td>0</td>\n",
       "      <td></td>\n",
       "    </tr>\n",
       "  </tbody>\n",
       "</table>\n",
       "</div>"
      ],
      "text/plain": [
       "                          bias  clickbait  conspiracy  fake  hate  junksci  \\\n",
       "domain                                                                       \n",
       "heartland.org                1          0           0     0     0        0   \n",
       "ExperimentalVaccines.org     0          0           1     0     0        1   \n",
       "heritage.org                 0          0           0     0     0        0   \n",
       "breakpoint.org               0          0           0     0     0        0   \n",
       "bigbluevision.org            1          1           0     0     0        0   \n",
       "witscience.org               0          0           0     0     0        0   \n",
       "freedomworks.org             0          0           0     0     0        0   \n",
       "adflegal.org/media           0          0           0     0     1        0   \n",
       "moonofalabama.org            1          0           0     0     0        0   \n",
       "thefreepatriot.org           1          1           0     1     0        0   \n",
       "\n",
       "                          political  reliable  rumor  satire  state  \\\n",
       "domain                                                                \n",
       "heartland.org                     0         0      0       0      0   \n",
       "ExperimentalVaccines.org          0         0      0       0      0   \n",
       "heritage.org                      1         0      0       0      0   \n",
       "breakpoint.org                    0         0      0       0      0   \n",
       "bigbluevision.org                 0         0      0       0      0   \n",
       "witscience.org                    0         0      0       1      0   \n",
       "freedomworks.org                  1         0      0       0      0   \n",
       "adflegal.org/media                0         0      0       0      0   \n",
       "moonofalabama.org                 0         0      0       0      0   \n",
       "thefreepatriot.org                0         0      0       0      0   \n",
       "\n",
       "                          unreliable  \\\n",
       "domain                                 \n",
       "heartland.org                      0   \n",
       "ExperimentalVaccines.org           0   \n",
       "heritage.org                       0   \n",
       "breakpoint.org                     1   \n",
       "bigbluevision.org                  0   \n",
       "witscience.org                     0   \n",
       "freedomworks.org                   0   \n",
       "adflegal.org/media                 0   \n",
       "moonofalabama.org                  0   \n",
       "thefreepatriot.org                 0   \n",
       "\n",
       "                                                                      notes  \n",
       "domain                                                                       \n",
       "heartland.org             http://www.sourcewatch.org/index.php/Heartland...  \n",
       "ExperimentalVaccines.org                                                     \n",
       "heritage.org                                                                 \n",
       "breakpoint.org                                                               \n",
       "bigbluevision.org                                                            \n",
       "witscience.org                                                               \n",
       "freedomworks.org                                                             \n",
       "adflegal.org/media        https://www.splcenter.org/fighting-hate/extrem...  \n",
       "moonofalabama.org                                                            \n",
       "thefreepatriot.org                                                           "
      ]
     },
     "execution_count": 44,
     "metadata": {},
     "output_type": "execute_result"
    }
   ],
   "source": [
    "df_news[df_news.index.str.contains('.org')].sample(10, random_state=42)"
   ]
  },
  {
   "cell_type": "markdown",
   "metadata": {},
   "source": [
    "### Some Last Clean-ups <a id='clean-up'></a>\n",
    "I see a \"/media\", is the rest of the site ok?\n",
    "\n",
    "Let's clean up the domain names a bit...\n",
    "1. remove \"www.\"\n",
    "2. remove subsites like \"/media\"\n",
    "3. cast to lower case"
   ]
  },
  {
   "cell_type": "code",
   "execution_count": 45,
   "metadata": {
    "collapsed": true
   },
   "outputs": [],
   "source": [
    "def preprocess_domains(value):\n",
    "    '''\n",
    "    Removes subsites from domains by splitting out bashslashes,\n",
    "    Removes www. from domains\n",
    "    returns a lowercase cleaned up domain\n",
    "    '''\n",
    "    value = value.split('/')[0]\n",
    "    value = value.replace('www.', '')\n",
    "    return value.lower()"
   ]
  },
  {
   "cell_type": "markdown",
   "metadata": {},
   "source": [
    "Because the index is a list, rather than use `apply`-- which only works on Series or DataFrames, we can use map, or a list generator to apply the `preprocess_domains` function to each element in the index."
   ]
  },
  {
   "cell_type": "code",
   "execution_count": 46,
   "metadata": {
    "collapsed": true
   },
   "outputs": [],
   "source": [
    "df_news.index = df_news.index.map(preprocess_domains)"
   ]
  },
  {
   "cell_type": "markdown",
   "metadata": {},
   "source": [
    "Let's use pandas `to_csv` to write this cleaned up file as a tab-separated value file (tsv)."
   ]
  },
  {
   "cell_type": "code",
   "execution_count": 47,
   "metadata": {
    "collapsed": true
   },
   "outputs": [],
   "source": [
    "df_news.to_csv('data/sources_clean.tsv', index=False, sep='\\t')"
   ]
  },
  {
   "cell_type": "code",
   "execution_count": 48,
   "metadata": {},
   "outputs": [
    {
     "name": "stdout",
     "output_type": "stream",
     "text": [
      "sources.csv       sources.json      sources_clean.tsv\r\n"
     ]
    }
   ],
   "source": [
    "!ls data"
   ]
  },
  {
   "cell_type": "markdown",
   "metadata": {},
   "source": [
    "## Conclusion\n",
    "OpenSources is a great resources for research and technology.<br>\n",
    "If you are aware of other projects that have categorized the online news ecosystem, I'd love to hear about it.\n",
    "\n",
    "Let's recap what we've covered:\n",
    "1. How to download data from the web using bash commands\n",
    "2. How to search and explore Pandas Dataframes\n",
    "3. How to preprocess messy real world data, twice!\n",
    "4. How to one-hot encode a categorical dataset.\n",
    "\n",
    "In the next notebook, we'll use this new dataset to analyze links shared on Twitter.\n",
    "We can begin to build a profile of how sites categorized from open sources are used during viral campaigns.\n",
    "\n",
    "### Thank yous:\n",
    "Rishab and Robyn from D&S.<br>\n",
    "Also my friend and collegue Andrew Guess, who introduced me to links as data.\n",
    "\n",
    "### About the Author:\n",
    "Leon Yin is an engineer and jr. scientist at NYU's Social Media and Political Participation Lab and the Center for Data Science. He is especially interested in using images and links as data, and finding odd applications for cutting-edge machine learning techniques."
   ]
  },
  {
   "cell_type": "code",
   "execution_count": null,
   "metadata": {
    "collapsed": true
   },
   "outputs": [],
   "source": []
  }
 ],
 "metadata": {
  "kernelspec": {
   "display_name": "Python 3",
   "language": "python",
   "name": "python3"
  },
  "language_info": {
   "codemirror_mode": {
    "name": "ipython",
    "version": 3
   },
   "file_extension": ".py",
   "mimetype": "text/x-python",
   "name": "python",
   "nbconvert_exporter": "python",
   "pygments_lexer": "ipython3",
   "version": "3.6.2"
  }
 },
 "nbformat": 4,
 "nbformat_minor": 2
}
